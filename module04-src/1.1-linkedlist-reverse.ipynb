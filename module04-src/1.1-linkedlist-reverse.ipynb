{
 "cells": [
  {
   "cell_type": "markdown",
   "id": "b43c0864-c6dd-4d21-8e1c-e814a7d55908",
   "metadata": {},
   "source": [
    "Create a Linked List"
   ]
  },
  {
   "cell_type": "code",
   "execution_count": 2,
   "id": "8c08683a-f7c5-4ca1-bb0b-ac5b799f7f39",
   "metadata": {},
   "outputs": [],
   "source": [
    "from dsa.singlylinkedlist import LinkedList, Node"
   ]
  },
  {
   "cell_type": "code",
   "execution_count": null,
   "id": "968bc007-b376-4453-a1e0-a45576958a0a",
   "metadata": {},
   "outputs": [],
   "source": [
    "n1 = Node(10)\n",
    "n2 = Node(20)\n",
    "n3 = Node(30)\n",
    "n4 = Node(40)\n",
    "n1.next = n2\n",
    "n2.next = n3\n",
    "n3.next = n4\n",
    "\n",
    "llist = LinkedList(n1, n4, 4)"
   ]
  },
  {
   "cell_type": "code",
   "execution_count": null,
   "id": "304b862f-3e07-41c2-b637-bafc666d097b",
   "metadata": {
    "tags": []
   },
   "outputs": [],
   "source": [
    "def print_iter(llist):\n",
    "    current = llist.head\n",
    "    while current:\n",
    "        print(current.value, end=\" \")\n",
    "        current = current.next\n",
    "    print()\n",
    "    \n",
    "print_iter(link)\n",
    "    "
   ]
  },
  {
   "cell_type": "markdown",
   "id": "7d5aa88b-308b-4738-b4f9-919cdc1a47c1",
   "metadata": {
    "jp-MarkdownHeadingCollapsed": true,
    "tags": []
   },
   "source": [
    "Reverse a Linked List (iterative version)"
   ]
  },
  {
   "cell_type": "code",
   "execution_count": null,
   "id": "013ce47e-24e4-48cb-82fd-41d559e1d192",
   "metadata": {
    "tags": []
   },
   "outputs": [],
   "source": [
    "def reverse_linkedlist(llist):\n",
    "    current = llist.head\n",
    "    prev = None\n",
    "    llist.tail = llist.head\n",
    "    while current != None:\n",
    "        next = current.next\n",
    "        current.next = prev\n",
    "\n",
    "        prev = current\n",
    "        current = next\n",
    "    llist.head = prev\n",
    "        \n",
    "reverse_linkedlist(llist)\n",
    "print_iter(llist)"
   ]
  },
  {
   "cell_type": "code",
   "execution_count": null,
   "id": "c08f48a2-1b6d-4e45-a121-021fe0bc0b0c",
   "metadata": {},
   "outputs": [],
   "source": [
    "reverse_linkedlist(llist)\n",
    "print_iter(llist)"
   ]
  },
  {
   "cell_type": "markdown",
   "id": "7f700424-615b-4b33-9df3-b2e448d40074",
   "metadata": {},
   "source": [
    "reverse linked list (recursive version)"
   ]
  },
  {
   "cell_type": "code",
   "execution_count": 4,
   "id": "b9e3ac4d-7562-4feb-be36-b4fc4be62edb",
   "metadata": {},
   "outputs": [
    {
     "name": "stdout",
     "output_type": "stream",
     "text": [
      "[10 20 30 40 ] Count: 4 10 40\n",
      "[40 30 20 10 ] Count: 4 40 10\n"
     ]
    }
   ],
   "source": [
    "def reverse_linkedlist_recursive(llist):\n",
    "    llist.tail = llist.head\n",
    "    llist.head = reverse_node_recursive(llist.head)\n",
    "    \n",
    "def reverse_node_recursive(node):\n",
    "    if node is None or node.next is None:\n",
    "        return node\n",
    "    \n",
    "    rest = reverse_node_recursive(node.next)\n",
    "\n",
    "    # set the next node's next reference to the current node\n",
    "    # A->B to B<-A\n",
    "    node.next.next = node\n",
    "    node.next = None\n",
    " \n",
    "    return rest\n",
    "\n",
    "n1 = Node(10)\n",
    "n2 = Node(20)\n",
    "n3 = Node(30)\n",
    "n4 = Node(40)\n",
    "n1.next = n2\n",
    "n2.next = n3\n",
    "n3.next = n4\n",
    "llist = LinkedList(n1, n4, 4)\n",
    "print(llist, llist.head.value, llist.tail.value)\n",
    "reverse_linkedlist_recursive(llist)\n",
    "print(llist, llist.head.value, llist.tail.value)"
   ]
  },
  {
   "cell_type": "code",
   "execution_count": 24,
   "id": "742e7278-8fc6-4335-871f-5141fa618f81",
   "metadata": {},
   "outputs": [
    {
     "name": "stdout",
     "output_type": "stream",
     "text": [
      "[10 20 30 ] Count: 3 10 30\n",
      "recursing  10\n",
      "recursing  20\n",
      "returning node\n",
      "X\n",
      "30->X\n",
      "20->30\n",
      "30->X\n",
      "flip\n",
      "20->30\n",
      "30->20\n",
      "20->30\n",
      "X\n",
      "20->X\n",
      "10->20\n",
      "30->20\n",
      "flip\n",
      "10->20\n",
      "20->10\n",
      "10->20\n",
      "[30 20 10 ] Count: 3 30 10\n"
     ]
    }
   ],
   "source": [
    "def display_node(node):\n",
    "    if not node:\n",
    "        print(\"X\")\n",
    "    else:\n",
    "        next_value = \"X\" if node.next is None else node.next.value\n",
    "        print(f\"{node.value}->{next_value}\")\n",
    "\n",
    "def reverse_linkedlist_recursive(llist):\n",
    "    llist.tail = llist.head\n",
    "    llist.head = reverse_node_recursive(llist.head)\n",
    "    \n",
    "def reverse_node_recursive(node):\n",
    "    if node is None or node.next is None:\n",
    "        print(\"returning node\")\n",
    "        return node\n",
    "\n",
    "    print(\"recursing \", node.value)\n",
    "    rest = reverse_node_recursive(node.next)\n",
    "    display_node(node.next.next)\n",
    "    display_node(node.next)\n",
    "    display_node(node)\n",
    "    display_node(rest)\n",
    "    node.next.next = node\n",
    "    print(\"flip\")\n",
    "    display_node(node.next.next)\n",
    "    display_node(node.next)\n",
    "    display_node(node)\n",
    "    node.next = None\n",
    " \n",
    "    return rest\n",
    "\n",
    "n1 = Node(10)\n",
    "n2 = Node(20)\n",
    "n3 = Node(30)\n",
    "n1.next = n2\n",
    "n2.next = n3\n",
    "llist = LinkedList(n1, n3, 3)\n",
    "print(llist, llist.head.value, llist.tail.value)\n",
    "reverse_linkedlist_recursive(llist)\n",
    "print(llist, llist.head.value, llist.tail.value)"
   ]
  },
  {
   "cell_type": "code",
   "execution_count": null,
   "id": "c620add9-d443-40ca-8814-8e3608a64be9",
   "metadata": {},
   "outputs": [],
   "source": []
  }
 ],
 "metadata": {
  "kernelspec": {
   "display_name": "Python 3 (ipykernel)",
   "language": "python",
   "name": "python3"
  },
  "language_info": {
   "codemirror_mode": {
    "name": "ipython",
    "version": 3
   },
   "file_extension": ".py",
   "mimetype": "text/x-python",
   "name": "python",
   "nbconvert_exporter": "python",
   "pygments_lexer": "ipython3",
   "version": "3.12.1"
  }
 },
 "nbformat": 4,
 "nbformat_minor": 5
}
