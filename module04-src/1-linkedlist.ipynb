{
 "cells": [
  {
   "cell_type": "markdown",
   "id": "b43c0864-c6dd-4d21-8e1c-e814a7d55908",
   "metadata": {},
   "source": [
    "Create a Linked List"
   ]
  },
  {
   "cell_type": "code",
   "execution_count": null,
   "id": "8c08683a-f7c5-4ca1-bb0b-ac5b799f7f39",
   "metadata": {},
   "outputs": [],
   "source": [
    "from dsa.singlylinkedlist import LinkedList, Node"
   ]
  },
  {
   "cell_type": "code",
   "execution_count": null,
   "id": "c46c89ef-b539-4860-9ab7-bef7a47e33ee",
   "metadata": {},
   "outputs": [],
   "source": [
    "n1 = Node(10)\n",
    "n2 = Node(20)\n",
    "n3 = Node(30)\n",
    "n4 = Node(40)\n",
    "n1.next = n2\n",
    "n2.next = n3\n",
    "n3.next = n4"
   ]
  },
  {
   "cell_type": "code",
   "execution_count": null,
   "id": "3f894b03-1d25-4609-a97e-90be5415a018",
   "metadata": {},
   "outputs": [],
   "source": [
    "link = LinkedList(n1, n4, 4)"
   ]
  },
  {
   "cell_type": "code",
   "execution_count": null,
   "id": "f79d056f-ff30-43c9-a577-d933b6bc6364",
   "metadata": {},
   "outputs": [],
   "source": [
    "link.head.value"
   ]
  },
  {
   "cell_type": "code",
   "execution_count": null,
   "id": "55d11f30-9c0f-44b8-8cda-d3fd65d5f93f",
   "metadata": {},
   "outputs": [],
   "source": [
    "link.tail.value"
   ]
  },
  {
   "cell_type": "code",
   "execution_count": null,
   "id": "90f21281-c683-434b-aec5-2ea7853e3790",
   "metadata": {},
   "outputs": [],
   "source": [
    "link.head.next.value"
   ]
  },
  {
   "cell_type": "code",
   "execution_count": null,
   "id": "6192ca96-a4a4-43bd-9937-c1e4937d3e84",
   "metadata": {},
   "outputs": [],
   "source": [
    "link.head.next.next.next.value"
   ]
  },
  {
   "cell_type": "code",
   "execution_count": null,
   "id": "37a31be0-95de-4167-b378-220b2869af46",
   "metadata": {},
   "outputs": [],
   "source": [
    "link.tail.next\n"
   ]
  },
  {
   "cell_type": "markdown",
   "id": "07511334-dfe1-44e0-9dfb-e831134a68c5",
   "metadata": {},
   "source": [
    "#### traverse a linked list"
   ]
  },
  {
   "cell_type": "code",
   "execution_count": null,
   "id": "37256cf3-e4c3-4787-85c6-e8096221a31c",
   "metadata": {},
   "outputs": [],
   "source": [
    "def print_list(node):\n",
    "    if node is None:\n",
    "        print()\n",
    "    else:\n",
    "        print(node.value, end=\" \")\n",
    "        print_list(node.next)\n",
    "        \n",
    "print_list(link.head)"
   ]
  },
  {
   "cell_type": "code",
   "execution_count": null,
   "id": "304b862f-3e07-41c2-b637-bafc666d097b",
   "metadata": {
    "tags": []
   },
   "outputs": [],
   "source": [
    "def print_iter(linkedlist):\n",
    "    current = linkedlist.head\n",
    "    while current != None:\n",
    "        print(current.value, end=\" \")\n",
    "        current = current.next\n",
    "    print()\n",
    "    \n",
    "print_iter(link)\n",
    "    "
   ]
  },
  {
   "cell_type": "markdown",
   "id": "503936f3-7e6d-4c03-90d2-1c2d83c3fc70",
   "metadata": {
    "tags": []
   },
   "source": [
    "#### insert \n",
    "* note: counts not updated for simplicty"
   ]
  },
  {
   "cell_type": "markdown",
   "id": "77a033a7-1b63-4eda-bc76-e5a0bc42f049",
   "metadata": {},
   "source": [
    "##### prepend"
   ]
  },
  {
   "cell_type": "code",
   "execution_count": null,
   "id": "7fb2e6ab-6621-492f-8a06-013aea684e56",
   "metadata": {},
   "outputs": [],
   "source": [
    "print_iter(link)"
   ]
  },
  {
   "cell_type": "code",
   "execution_count": null,
   "id": "0825b70d-e1b5-4e33-87ed-f56c89e54b67",
   "metadata": {},
   "outputs": [],
   "source": [
    "new_node = Node(5)\n",
    "new_node.next = link.head\n",
    "link.head = new_node"
   ]
  },
  {
   "cell_type": "code",
   "execution_count": null,
   "id": "909a51fe-015a-447c-a27c-258ee81a3bce",
   "metadata": {},
   "outputs": [],
   "source": [
    "print_iter(link)"
   ]
  },
  {
   "cell_type": "markdown",
   "id": "6f159589-a097-4770-90a8-f90731cbe58a",
   "metadata": {},
   "source": [
    "##### append"
   ]
  },
  {
   "cell_type": "code",
   "execution_count": null,
   "id": "d3161b4a-1ea5-44a0-a077-3e4240263b01",
   "metadata": {},
   "outputs": [],
   "source": [
    "print_iter(link)"
   ]
  },
  {
   "cell_type": "code",
   "execution_count": null,
   "id": "9aa3ba01-45bf-4cce-bb65-89f07df2a27d",
   "metadata": {},
   "outputs": [],
   "source": [
    "new_node = Node(50)\n",
    "link.tail.next = new_node\n",
    "link.tail = new_node"
   ]
  },
  {
   "cell_type": "code",
   "execution_count": null,
   "id": "8a1cfa72-ed71-4c51-98e0-abe9e0faa5c0",
   "metadata": {},
   "outputs": [],
   "source": [
    "print_iter(link)"
   ]
  },
  {
   "cell_type": "markdown",
   "id": "a17a36ee-5e1c-46a7-85e8-88438d971a4c",
   "metadata": {},
   "source": [
    "##### insert middle"
   ]
  },
  {
   "cell_type": "code",
   "execution_count": null,
   "id": "32e5d42b-5276-4747-bfc3-60e321b64427",
   "metadata": {},
   "outputs": [],
   "source": [
    "print_iter(link)"
   ]
  },
  {
   "cell_type": "code",
   "execution_count": null,
   "id": "3f2e1baf-3728-41bc-880a-beaa9800f9dd",
   "metadata": {},
   "outputs": [],
   "source": [
    "link.head.next.next.value\n"
   ]
  },
  {
   "cell_type": "code",
   "execution_count": null,
   "id": "053cbb6f-dfed-4ba1-b46d-910b83918224",
   "metadata": {},
   "outputs": [],
   "source": [
    "new_node = Node(25)\n",
    "current = link.head.next.next\n",
    "new_node.next = current.next\n",
    "current.next = new_node"
   ]
  },
  {
   "cell_type": "code",
   "execution_count": null,
   "id": "e6c923a0-67fd-41a4-bf0b-037a3d9cbe01",
   "metadata": {},
   "outputs": [],
   "source": [
    "print_iter(link)"
   ]
  },
  {
   "cell_type": "markdown",
   "id": "03c87f79-02b4-48bc-9951-580444ad2c8f",
   "metadata": {},
   "source": [
    "#### delete\n",
    "* note: counts not updated for simplicity"
   ]
  },
  {
   "cell_type": "markdown",
   "id": "d40f4ef9-df06-4718-8c00-ee940c1b3b95",
   "metadata": {},
   "source": [
    "##### delete head"
   ]
  },
  {
   "cell_type": "code",
   "execution_count": null,
   "id": "75f37b7c-6405-4c45-a1f9-3a3094d746cf",
   "metadata": {},
   "outputs": [],
   "source": [
    "print_iter(link)"
   ]
  },
  {
   "cell_type": "code",
   "execution_count": null,
   "id": "241f40ee-0149-40dc-bf4b-deff3b2710e3",
   "metadata": {},
   "outputs": [],
   "source": [
    "current = link.head\n",
    "link.head = link.head.next\n",
    "current.next = None"
   ]
  },
  {
   "cell_type": "code",
   "execution_count": null,
   "id": "55863b10-4235-4b37-8970-5503890147f0",
   "metadata": {},
   "outputs": [],
   "source": [
    "print_iter(link)"
   ]
  },
  {
   "cell_type": "markdown",
   "id": "efb70594-b760-4c0d-8f4f-086c6ff1419b",
   "metadata": {},
   "source": [
    "##### delete tail"
   ]
  },
  {
   "cell_type": "code",
   "execution_count": null,
   "id": "cd261f68-d216-4894-a5af-7faf4f547299",
   "metadata": {},
   "outputs": [],
   "source": [
    "print_iter(link)"
   ]
  },
  {
   "cell_type": "markdown",
   "id": "63c01376-c714-4572-a78b-80ac78b5bc0d",
   "metadata": {},
   "source": [
    "###### search for second to the last node"
   ]
  },
  {
   "cell_type": "code",
   "execution_count": null,
   "id": "173ad077-8289-430c-99f8-1cb807ed3d54",
   "metadata": {},
   "outputs": [],
   "source": [
    "link.head.next.next.next.next.value"
   ]
  },
  {
   "cell_type": "code",
   "execution_count": null,
   "id": "0f24b010-d1ae-4189-a080-16acde8ed137",
   "metadata": {},
   "outputs": [],
   "source": [
    "current = link.head.next.next.next.next"
   ]
  },
  {
   "cell_type": "code",
   "execution_count": null,
   "id": "c5215c60-a1d9-4935-807b-0e13303f75de",
   "metadata": {},
   "outputs": [],
   "source": [
    "current.next = None\n",
    "link.tail = current"
   ]
  },
  {
   "cell_type": "code",
   "execution_count": null,
   "id": "38fb7ecc-423e-4563-8b3a-a29dd0be1e96",
   "metadata": {},
   "outputs": [],
   "source": [
    "print_iter(link)"
   ]
  },
  {
   "cell_type": "markdown",
   "id": "4c7596fa-4ae4-469b-997a-37fc7318a5c1",
   "metadata": {},
   "source": [
    "##### delete middle"
   ]
  },
  {
   "cell_type": "code",
   "execution_count": null,
   "id": "abeb3084-eced-414b-a69a-d35c169e3cd1",
   "metadata": {},
   "outputs": [],
   "source": [
    "print_iter(link)"
   ]
  },
  {
   "cell_type": "markdown",
   "id": "e11e0c65-385a-44ba-9e02-18716b388a34",
   "metadata": {},
   "source": [
    "look for node before to be deleted"
   ]
  },
  {
   "cell_type": "code",
   "execution_count": null,
   "id": "9e2d0d6e-e1bb-4943-9c51-1dd694d5539f",
   "metadata": {},
   "outputs": [],
   "source": [
    "link.head.next.value"
   ]
  },
  {
   "cell_type": "code",
   "execution_count": null,
   "id": "932e17ce-92be-441d-9aef-d87ec1085917",
   "metadata": {},
   "outputs": [],
   "source": [
    "current = link.head.next\n",
    "next = current.next"
   ]
  },
  {
   "cell_type": "code",
   "execution_count": null,
   "id": "9aa42863-c22e-4a29-80a3-40e1a2f351c6",
   "metadata": {},
   "outputs": [],
   "source": [
    "current.next = current.next.next\n",
    "next.next = None"
   ]
  },
  {
   "cell_type": "code",
   "execution_count": null,
   "id": "f2dcdc98-7a16-4dd2-a26c-c06bb11c73d4",
   "metadata": {},
   "outputs": [],
   "source": [
    "print_iter(link)"
   ]
  },
  {
   "cell_type": "markdown",
   "id": "84a53d7b-a9ce-464b-bdd7-1da4ae0547fb",
   "metadata": {},
   "source": [
    "DSALinkedList Operations"
   ]
  },
  {
   "cell_type": "code",
   "execution_count": null,
   "id": "82d26798-ca38-47ab-9c39-4b6e118a19f7",
   "metadata": {},
   "outputs": [],
   "source": [
    "from dsa.singlylinkedlist import LinkedList, Node"
   ]
  },
  {
   "cell_type": "code",
   "execution_count": null,
   "id": "aef9148f-2de7-4591-bc81-f91d85b72cc3",
   "metadata": {},
   "outputs": [],
   "source": [
    "link = LinkedList.from_array([10, 20, 30, 40])"
   ]
  },
  {
   "cell_type": "code",
   "execution_count": null,
   "id": "01e907ef-afc7-428b-9c73-8f5012654817",
   "metadata": {},
   "outputs": [],
   "source": [
    "link"
   ]
  },
  {
   "cell_type": "markdown",
   "id": "9738aba4-b986-49c1-9a68-2dd2a65d15ca",
   "metadata": {},
   "source": [
    "##### insert front (prepend)"
   ]
  },
  {
   "cell_type": "code",
   "execution_count": null,
   "id": "54c67c4d-c4c2-442d-9758-3582e8a570a2",
   "metadata": {},
   "outputs": [],
   "source": [
    "link.insert(0, 5)"
   ]
  },
  {
   "cell_type": "code",
   "execution_count": null,
   "id": "593c1d7e-5f75-49f8-8564-940264696ce5",
   "metadata": {},
   "outputs": [],
   "source": [
    "link"
   ]
  },
  {
   "cell_type": "markdown",
   "id": "43b3cf58-9024-4f2d-b739-ce0c02c21bb3",
   "metadata": {},
   "source": [
    "##### insert middle"
   ]
  },
  {
   "cell_type": "code",
   "execution_count": null,
   "id": "1c2af2e1-b39e-4dea-9bbe-dd940275fa9c",
   "metadata": {},
   "outputs": [],
   "source": [
    "link.insert(2, 25)"
   ]
  },
  {
   "cell_type": "code",
   "execution_count": null,
   "id": "df56a868-eaa0-4a3b-a8e4-2a3a0544e44c",
   "metadata": {},
   "outputs": [],
   "source": [
    "link"
   ]
  },
  {
   "cell_type": "markdown",
   "id": "ffdc9d1c-0991-4150-a209-f5a724761e53",
   "metadata": {},
   "source": [
    "##### insert tail (append)"
   ]
  },
  {
   "cell_type": "code",
   "execution_count": null,
   "id": "316fa0af-940c-4153-9313-55e99cbed730",
   "metadata": {},
   "outputs": [],
   "source": [
    "link.tail.value"
   ]
  },
  {
   "cell_type": "code",
   "execution_count": null,
   "id": "53eb6ce5-a6a5-47c9-b0ea-8d0c3896bb88",
   "metadata": {},
   "outputs": [],
   "source": [
    "link.append(50)"
   ]
  },
  {
   "cell_type": "code",
   "execution_count": null,
   "id": "54b62d40-269a-4c3f-8658-f4d183b3f087",
   "metadata": {},
   "outputs": [],
   "source": [
    "link"
   ]
  },
  {
   "cell_type": "code",
   "execution_count": null,
   "id": "bad1a2f8-df20-4c89-9d94-5b7cb9276c12",
   "metadata": {},
   "outputs": [],
   "source": [
    "link.tail.value"
   ]
  },
  {
   "cell_type": "markdown",
   "id": "d87cf08d-e940-4c62-944b-56fe328ff847",
   "metadata": {},
   "source": [
    "##### delete head"
   ]
  },
  {
   "cell_type": "code",
   "execution_count": null,
   "id": "c2a80985-3c03-41a5-8b96-e6a7529c6c0b",
   "metadata": {},
   "outputs": [],
   "source": [
    "link.delete(0)"
   ]
  },
  {
   "cell_type": "code",
   "execution_count": null,
   "id": "5484521b-e146-48d2-806b-e3d07364e51c",
   "metadata": {},
   "outputs": [],
   "source": [
    "link"
   ]
  },
  {
   "cell_type": "markdown",
   "id": "1fb62b24-2ae7-477a-8c3d-6406c686949f",
   "metadata": {},
   "source": [
    "##### delete middle"
   ]
  },
  {
   "cell_type": "code",
   "execution_count": null,
   "id": "7bc0a3b9-0bde-4089-83c5-ca551d57cc40",
   "metadata": {},
   "outputs": [],
   "source": [
    "link.delete(1)"
   ]
  },
  {
   "cell_type": "code",
   "execution_count": null,
   "id": "4d14acdc-ba05-4f0c-a004-1282971ed605",
   "metadata": {},
   "outputs": [],
   "source": [
    "link"
   ]
  },
  {
   "cell_type": "markdown",
   "id": "8a9570e0-772e-4819-ae2a-e66c9c404143",
   "metadata": {},
   "source": [
    "##### delete tail"
   ]
  },
  {
   "cell_type": "code",
   "execution_count": null,
   "id": "e1a14ac2-e119-4b9b-a47a-0ab427477de6",
   "metadata": {},
   "outputs": [],
   "source": [
    "link.delete(4)"
   ]
  },
  {
   "cell_type": "code",
   "execution_count": null,
   "id": "0ec64caa-f163-4ef6-ae4d-20ea814e90e0",
   "metadata": {},
   "outputs": [],
   "source": [
    "link"
   ]
  },
  {
   "cell_type": "code",
   "execution_count": null,
   "id": "7a294323-0de2-4174-82a7-3d49b394b349",
   "metadata": {},
   "outputs": [],
   "source": []
  }
 ],
 "metadata": {
  "kernelspec": {
   "display_name": "Python 3 (ipykernel)",
   "language": "python",
   "name": "python3"
  },
  "language_info": {
   "codemirror_mode": {
    "name": "ipython",
    "version": 3
   },
   "file_extension": ".py",
   "mimetype": "text/x-python",
   "name": "python",
   "nbconvert_exporter": "python",
   "pygments_lexer": "ipython3",
   "version": "3.11.4"
  }
 },
 "nbformat": 4,
 "nbformat_minor": 5
}
