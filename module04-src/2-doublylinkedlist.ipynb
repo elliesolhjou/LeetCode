{
 "cells": [
  {
   "cell_type": "markdown",
   "id": "29f7b02c-2b8c-4fdc-8429-495484f5ed07",
   "metadata": {},
   "source": [
    "Create a doubly linked list"
   ]
  },
  {
   "cell_type": "code",
   "execution_count": null,
   "id": "5b458515-585c-4f8e-a86c-97751ab52dbe",
   "metadata": {},
   "outputs": [],
   "source": [
    "from dsa.doublylinkedlist import DoublyLinkedList, Node"
   ]
  },
  {
   "cell_type": "code",
   "execution_count": null,
   "id": "f70169c2-cf2b-49d7-a263-c47cb08cd806",
   "metadata": {},
   "outputs": [],
   "source": [
    "n1 = Node(10)\n",
    "n2 = Node(20)\n",
    "n3 = Node(30)\n",
    "n4 = Node(40)"
   ]
  },
  {
   "cell_type": "code",
   "execution_count": null,
   "id": "faf3ff5e-0b57-4317-ad1c-fa85960f0d32",
   "metadata": {},
   "outputs": [],
   "source": [
    "n1.next = n2\n",
    "n2.prev = n1\n",
    "n2.next = n3\n",
    "n3.prev = n2\n",
    "n3.next = n4\n",
    "n4.prev = n3"
   ]
  },
  {
   "cell_type": "code",
   "execution_count": null,
   "id": "ab4785b0-b267-4e4c-976d-cda3953ba3b3",
   "metadata": {},
   "outputs": [],
   "source": [
    "dlink = DoublyLinkedList(n1, n4, 4)"
   ]
  },
  {
   "cell_type": "markdown",
   "id": "1b56a4df-f95a-40f0-973a-b63607f922ab",
   "metadata": {},
   "source": [
    "Traversal"
   ]
  },
  {
   "cell_type": "code",
   "execution_count": null,
   "id": "f95690fc-2e1c-440a-82e4-07f397b43396",
   "metadata": {},
   "outputs": [],
   "source": [
    "def print_list(link):\n",
    "    if link is None:\n",
    "        print()\n",
    "    else:\n",
    "        print(link.value, end=\" \")\n",
    "        print_list(link.next)\n",
    "        \n",
    "print_list(dlink.head)"
   ]
  },
  {
   "cell_type": "code",
   "execution_count": null,
   "id": "7bf81f52-7487-4614-8d62-2dedaabc34de",
   "metadata": {},
   "outputs": [],
   "source": [
    "def print_reverse_list(link):\n",
    "    if link is None:\n",
    "        print()\n",
    "    else:\n",
    "        print(link.value, end=\" \")\n",
    "        print_reverse_list(link.prev)\n",
    "        \n",
    "print_reverse_list(dlink.tail)"
   ]
  },
  {
   "cell_type": "markdown",
   "id": "9596e7d4-82ec-430a-b622-30bc478f4357",
   "metadata": {
    "tags": []
   },
   "source": [
    "insert operations"
   ]
  },
  {
   "cell_type": "markdown",
   "id": "e5a8b6db-585d-48e4-b428-08e73c8e720e",
   "metadata": {},
   "source": [
    "prepend"
   ]
  },
  {
   "cell_type": "code",
   "execution_count": null,
   "id": "f833c989-1c9e-4242-ba39-716105c903ec",
   "metadata": {},
   "outputs": [],
   "source": [
    "print_list(dlink.head)"
   ]
  },
  {
   "cell_type": "code",
   "execution_count": null,
   "id": "107b8a1f-b09a-4b9e-b6e5-f87955326be8",
   "metadata": {},
   "outputs": [],
   "source": [
    "new_node = Node(5)\n",
    "new_node.next = dlink.head\n",
    "dlink.head.prev = new_node\n",
    "dlink.head = new_node\n",
    "dlink.count += 1"
   ]
  },
  {
   "cell_type": "code",
   "execution_count": null,
   "id": "21b6dbc6-8a2c-47b2-8e71-a7d51929a293",
   "metadata": {},
   "outputs": [],
   "source": [
    "print_list(dlink.head)"
   ]
  },
  {
   "cell_type": "code",
   "execution_count": null,
   "id": "d50d71c1-c45f-4464-8345-4484fa045507",
   "metadata": {},
   "outputs": [],
   "source": [
    "print_reverse_list(dlink.tail)"
   ]
  },
  {
   "cell_type": "markdown",
   "id": "4b9e03cd-1364-45c1-86d8-8a76d36d6ea1",
   "metadata": {},
   "source": [
    "##### append"
   ]
  },
  {
   "cell_type": "code",
   "execution_count": null,
   "id": "a6306be1-759f-42a1-977a-6ac3549ac8d9",
   "metadata": {},
   "outputs": [],
   "source": [
    "print_list(dlink.head)"
   ]
  },
  {
   "cell_type": "code",
   "execution_count": null,
   "id": "bf971a4e-97a3-45cf-9a6c-2ec5763620ae",
   "metadata": {},
   "outputs": [],
   "source": [
    "new_node = Node(50)\n",
    "new_node.prev = dlink.tail\n",
    "dlink.tail.next = new_node\n",
    "dlink.tail = new_node\n",
    "dlink.count += 1"
   ]
  },
  {
   "cell_type": "code",
   "execution_count": null,
   "id": "9d5ae315-9f21-44b8-8ace-da6ac5b8c1c4",
   "metadata": {},
   "outputs": [],
   "source": [
    "print_list(dlink.head)\n",
    "print_reverse_list(dlink.tail)"
   ]
  },
  {
   "cell_type": "markdown",
   "id": "6fcb01c0-8643-4c34-be0c-23e07c6b776e",
   "metadata": {},
   "source": [
    "##### insert middle"
   ]
  },
  {
   "cell_type": "code",
   "execution_count": null,
   "id": "fb341ad9-0cd2-43b3-befa-481024e51671",
   "metadata": {},
   "outputs": [],
   "source": [
    "print_list(dlink.head)"
   ]
  },
  {
   "cell_type": "code",
   "execution_count": null,
   "id": "1ad7cc7a-de2c-4551-a629-b5dfabd92893",
   "metadata": {},
   "outputs": [],
   "source": [
    "dlink.head.next.next.next.value\n"
   ]
  },
  {
   "cell_type": "code",
   "execution_count": null,
   "id": "831e30a1-c7a8-4b62-b3ab-9ef00cc7b44b",
   "metadata": {},
   "outputs": [],
   "source": [
    "new_node = Node(25)\n",
    "current = dlink.head.next.next.next\n",
    "new_node.next = current\n",
    "new_node.prev = current.prev\n",
    "current.prev = new_node\n",
    "new_node.prev.next = new_node\n",
    "dlink.count += 1"
   ]
  },
  {
   "cell_type": "code",
   "execution_count": null,
   "id": "79d5bda5-5f63-4654-83d2-0b8adec5f75c",
   "metadata": {},
   "outputs": [],
   "source": [
    "print_list(dlink.head)\n",
    "print_reverse_list(dlink.tail)"
   ]
  },
  {
   "cell_type": "markdown",
   "id": "d12fcb56-ce28-4229-b341-515793c37db8",
   "metadata": {},
   "source": [
    "#### delete"
   ]
  },
  {
   "cell_type": "markdown",
   "id": "f21ea578-5ea5-47c3-9251-4ec705abb6fe",
   "metadata": {},
   "source": [
    "##### delete head"
   ]
  },
  {
   "cell_type": "code",
   "execution_count": null,
   "id": "6715e302-7ab5-4b64-9869-c3699f6cfd47",
   "metadata": {},
   "outputs": [],
   "source": [
    "print_list(dlink.head)"
   ]
  },
  {
   "cell_type": "code",
   "execution_count": null,
   "id": "026d7697-d81e-4532-a79a-1f5b62b436d7",
   "metadata": {},
   "outputs": [],
   "source": [
    "dlink.head = dlink.head.next\n",
    "dlink.head.prev.next = None\n",
    "dlink.head.prev = None\n",
    "dlink.count -= 1"
   ]
  },
  {
   "cell_type": "code",
   "execution_count": null,
   "id": "58e1382f-64b7-4a75-86bb-66d64cfef120",
   "metadata": {},
   "outputs": [],
   "source": [
    "print_list(dlink.head)\n",
    "print_reverse_list(dlink.tail)"
   ]
  },
  {
   "cell_type": "markdown",
   "id": "79df7f3c-14d8-4af9-bda6-d3442cc292b9",
   "metadata": {},
   "source": [
    "##### delete tail"
   ]
  },
  {
   "cell_type": "code",
   "execution_count": null,
   "id": "e9d41f0e-5ba1-45dc-a27b-29dbffb1d9cc",
   "metadata": {},
   "outputs": [],
   "source": [
    "print_list(dlink.head)\n"
   ]
  },
  {
   "cell_type": "markdown",
   "id": "12a30a30-c692-4163-8910-8ad586c489c9",
   "metadata": {},
   "source": [
    "###### search for second to the last node"
   ]
  },
  {
   "cell_type": "code",
   "execution_count": null,
   "id": "da7d6072-8c4d-496d-a6f0-4014df458f0c",
   "metadata": {},
   "outputs": [],
   "source": [
    "dlink.tail.prev.value"
   ]
  },
  {
   "cell_type": "code",
   "execution_count": null,
   "id": "ff0bd1df-d8c9-4d4a-a91f-6232f938cd77",
   "metadata": {},
   "outputs": [],
   "source": [
    "current = dlink.tail.prev"
   ]
  },
  {
   "cell_type": "code",
   "execution_count": null,
   "id": "2b6c6b1a-239d-4396-aacb-68114a0adb36",
   "metadata": {},
   "outputs": [],
   "source": [
    "current.next = None\n",
    "dlink.tail = current"
   ]
  },
  {
   "cell_type": "code",
   "execution_count": null,
   "id": "f71ed8a6-2588-4d1e-9cf6-8f3abfa12dc9",
   "metadata": {},
   "outputs": [],
   "source": [
    "dlink.count -= 1"
   ]
  },
  {
   "cell_type": "code",
   "execution_count": null,
   "id": "96937e10-0997-430b-a2a3-adcb48f42e7e",
   "metadata": {},
   "outputs": [],
   "source": [
    "print_list(dlink.head)\n",
    "print_reverse_list(dlink.tail)"
   ]
  },
  {
   "cell_type": "markdown",
   "id": "dbc97e0f-b6a6-49eb-94e8-03dabebe764b",
   "metadata": {},
   "source": [
    "##### delete middle"
   ]
  },
  {
   "cell_type": "code",
   "execution_count": null,
   "id": "5c31caec-2b46-4761-b6d0-e60a1122c0d8",
   "metadata": {},
   "outputs": [],
   "source": [
    "print_list(dlink.head)\n"
   ]
  },
  {
   "cell_type": "markdown",
   "id": "95a7941e-3322-4038-9cdc-606f4a218ff7",
   "metadata": {},
   "source": [
    "look for node be deleted (delete 25)"
   ]
  },
  {
   "cell_type": "code",
   "execution_count": null,
   "id": "dc2421fc-3650-4907-b457-867d1bebc899",
   "metadata": {},
   "outputs": [],
   "source": [
    "dlink.head.next.next.value"
   ]
  },
  {
   "cell_type": "code",
   "execution_count": null,
   "id": "2519822a-8615-4416-b1e5-2c049c0d3500",
   "metadata": {
    "tags": []
   },
   "outputs": [],
   "source": [
    "current = dlink.head.next.next"
   ]
  },
  {
   "cell_type": "code",
   "execution_count": null,
   "id": "5c9d077a-90d7-4347-8b89-7fb4a9f6fd79",
   "metadata": {},
   "outputs": [],
   "source": [
    "current.value"
   ]
  },
  {
   "cell_type": "code",
   "execution_count": null,
   "id": "fe365263-246f-4d18-85c4-1fa7a5aa9795",
   "metadata": {},
   "outputs": [],
   "source": [
    "current.prev.next.value"
   ]
  },
  {
   "cell_type": "code",
   "execution_count": null,
   "id": "e02f8a35-1965-458b-8b4c-497a7783c4fc",
   "metadata": {},
   "outputs": [],
   "source": [
    "current.prev.value"
   ]
  },
  {
   "cell_type": "code",
   "execution_count": null,
   "id": "af02e5aa-dee5-4f06-be0e-3dcf68002297",
   "metadata": {},
   "outputs": [],
   "source": [
    "current.prev.next = current.next\n",
    "current.next.prev = current.prev\n",
    "current.next = None\n",
    "current.prev = None\n",
    "dlink.count -= 1"
   ]
  },
  {
   "cell_type": "code",
   "execution_count": null,
   "id": "86cf9b22-96b4-47c6-87c2-89798f2b9910",
   "metadata": {},
   "outputs": [],
   "source": [
    "print_list(dlink.head)\n",
    "print_reverse_list(dlink.tail)\n",
    "dlink.count"
   ]
  },
  {
   "cell_type": "markdown",
   "id": "20f3b12a-d328-46af-a843-a4ffdbe6d90f",
   "metadata": {},
   "source": [
    "DSALinkedList Operations"
   ]
  },
  {
   "cell_type": "code",
   "execution_count": null,
   "id": "2bf34250-65c9-4953-8ec5-0e7f3c96517d",
   "metadata": {},
   "outputs": [],
   "source": [
    "from dsa.doublylinkedlist import DoublyLinkedList, Node"
   ]
  },
  {
   "cell_type": "code",
   "execution_count": null,
   "id": "aad10328-0011-4da6-86d4-adf19c062ce5",
   "metadata": {},
   "outputs": [],
   "source": [
    "dlink = DoublyLinkedList.from_array([10, 20, 30, 40])"
   ]
  },
  {
   "cell_type": "code",
   "execution_count": null,
   "id": "2c898762-7121-4a4d-8ea4-5526c803f59b",
   "metadata": {},
   "outputs": [],
   "source": [
    "dlink"
   ]
  },
  {
   "cell_type": "markdown",
   "id": "eb3548a0-5d5c-485b-b519-4c8bb1ca669b",
   "metadata": {},
   "source": [
    "insert front (prepend)"
   ]
  },
  {
   "cell_type": "code",
   "execution_count": null,
   "id": "186175da-3b8c-4c03-8ef4-adb2583623ad",
   "metadata": {},
   "outputs": [],
   "source": [
    "dlink.insert(0, 5)"
   ]
  },
  {
   "cell_type": "code",
   "execution_count": null,
   "id": "3cfaa4d6-48aa-4ece-8946-e204c8576b0b",
   "metadata": {},
   "outputs": [],
   "source": [
    "dlink"
   ]
  },
  {
   "cell_type": "markdown",
   "id": "aab256f8-04cb-4e80-a562-6ad6f06c5560",
   "metadata": {},
   "source": [
    "##### insert middle"
   ]
  },
  {
   "cell_type": "code",
   "execution_count": null,
   "id": "fbe44ac3-be0a-4e53-8395-b9435a141444",
   "metadata": {},
   "outputs": [],
   "source": [
    "dlink.insert(3, 25)"
   ]
  },
  {
   "cell_type": "code",
   "execution_count": null,
   "id": "55973439-5a15-4851-8239-b25f99ca433d",
   "metadata": {},
   "outputs": [],
   "source": [
    "dlink"
   ]
  },
  {
   "cell_type": "markdown",
   "id": "28202381-d835-4529-a295-e84f5e52c7c0",
   "metadata": {},
   "source": [
    "##### insert tail (append)"
   ]
  },
  {
   "cell_type": "code",
   "execution_count": null,
   "id": "9a65246e-40c6-4318-b8c9-503dbb9aef90",
   "metadata": {},
   "outputs": [],
   "source": [
    "dlink.tail.value"
   ]
  },
  {
   "cell_type": "code",
   "execution_count": null,
   "id": "ca0128a4-7625-4b59-a25d-05e3a0d0cd0d",
   "metadata": {},
   "outputs": [],
   "source": [
    "dlink.append(50)"
   ]
  },
  {
   "cell_type": "code",
   "execution_count": null,
   "id": "f5d026e6-fc9e-4885-9ef8-93c1164b012f",
   "metadata": {},
   "outputs": [],
   "source": [
    "dlink"
   ]
  },
  {
   "cell_type": "code",
   "execution_count": null,
   "id": "d88ee93a-3238-41d9-ad52-1294a3a67ab0",
   "metadata": {},
   "outputs": [],
   "source": [
    "dlink.tail.value"
   ]
  },
  {
   "cell_type": "code",
   "execution_count": null,
   "id": "fee7207f-dfd1-465f-901e-537e73e8bd92",
   "metadata": {},
   "outputs": [],
   "source": [
    "print_reverse_list(dlink.tail)"
   ]
  },
  {
   "cell_type": "markdown",
   "id": "11eb332d-fc69-4404-bbb6-55ebd6976af1",
   "metadata": {},
   "source": [
    "Delete Operations"
   ]
  },
  {
   "cell_type": "markdown",
   "id": "46574733-e55a-401b-a9be-398edaa9f307",
   "metadata": {
    "jp-MarkdownHeadingCollapsed": true
   },
   "source": [
    "delete head"
   ]
  },
  {
   "cell_type": "code",
   "execution_count": null,
   "id": "a3cab403-2016-4abf-b69d-c76e059267e7",
   "metadata": {},
   "outputs": [],
   "source": [
    "dlink.delete(0)"
   ]
  },
  {
   "cell_type": "code",
   "execution_count": null,
   "id": "c141526c-074d-4750-bb06-1ed5ca293016",
   "metadata": {},
   "outputs": [],
   "source": [
    "dlink"
   ]
  },
  {
   "cell_type": "markdown",
   "id": "39671bb8-825e-4b7a-bd42-6810a560b987",
   "metadata": {},
   "source": [
    "delete middle"
   ]
  },
  {
   "cell_type": "code",
   "execution_count": null,
   "id": "32c6a729-ca5b-489f-9333-636d012a7837",
   "metadata": {},
   "outputs": [],
   "source": [
    "dlink.delete(2)"
   ]
  },
  {
   "cell_type": "code",
   "execution_count": null,
   "id": "1db0aca2-5212-4a6c-a8db-3b9fab136d1a",
   "metadata": {},
   "outputs": [],
   "source": [
    "dlink"
   ]
  },
  {
   "cell_type": "markdown",
   "id": "247cb589-999e-4b87-9e55-e3c0736f3bb1",
   "metadata": {},
   "source": [
    "delete tail"
   ]
  },
  {
   "cell_type": "code",
   "execution_count": null,
   "id": "c9fce8e8-6504-4958-a676-8feb98ec1b91",
   "metadata": {},
   "outputs": [],
   "source": [
    "dlink.delete(4)"
   ]
  },
  {
   "cell_type": "code",
   "execution_count": null,
   "id": "a0c75a30-6125-4654-bd39-748147ea54c9",
   "metadata": {},
   "outputs": [],
   "source": [
    "dlink"
   ]
  },
  {
   "cell_type": "code",
   "execution_count": null,
   "id": "726822d1-fbc9-4dca-86d7-bc7a79360de3",
   "metadata": {},
   "outputs": [],
   "source": [
    "print_reverse_list(dlink.tail)"
   ]
  },
  {
   "cell_type": "code",
   "execution_count": null,
   "id": "1cafb5ec-f0f3-4cdf-a4a6-0d791ad9c728",
   "metadata": {},
   "outputs": [],
   "source": []
  }
 ],
 "metadata": {
  "kernelspec": {
   "display_name": "Python 3 (ipykernel)",
   "language": "python",
   "name": "python3"
  },
  "language_info": {
   "codemirror_mode": {
    "name": "ipython",
    "version": 3
   },
   "file_extension": ".py",
   "mimetype": "text/x-python",
   "name": "python",
   "nbconvert_exporter": "python",
   "pygments_lexer": "ipython3",
   "version": "3.11.4"
  }
 },
 "nbformat": 4,
 "nbformat_minor": 5
}
