{
 "cells": [
  {
   "cell_type": "markdown",
   "id": "43f6b769-ee9d-42c4-b091-7eb1ee0ea991",
   "metadata": {},
   "source": [
    "Create a Tree"
   ]
  },
  {
   "cell_type": "code",
   "execution_count": null,
   "id": "dd1b99c3-8349-4cc8-bcd7-5cca0ccc8b2f",
   "metadata": {},
   "outputs": [],
   "source": [
    "from dsa.tree import Node, Tree\n",
    "from dsa.pretty_print import tree_print"
   ]
  },
  {
   "cell_type": "code",
   "execution_count": null,
   "id": "039adbbf-a346-4d19-bfb0-ca9c02ca61aa",
   "metadata": {},
   "outputs": [],
   "source": [
    "n1 = Node(50)\n",
    "tree = Tree(n1)\n",
    "tree_print(tree)"
   ]
  },
  {
   "cell_type": "markdown",
   "id": "d21121e4-61e6-46a5-a310-9e1b744a5865",
   "metadata": {},
   "source": [
    "insert"
   ]
  },
  {
   "cell_type": "code",
   "execution_count": null,
   "id": "823de5f2-ff30-440b-b2b1-a01aa07f351f",
   "metadata": {},
   "outputs": [],
   "source": [
    "tree.insert(45)"
   ]
  },
  {
   "cell_type": "code",
   "execution_count": null,
   "id": "71c248a1-c4f2-4501-8725-e3f5ff36c95e",
   "metadata": {},
   "outputs": [],
   "source": [
    "tree_print(tree)"
   ]
  },
  {
   "cell_type": "code",
   "execution_count": null,
   "id": "df421f66-f2b8-4734-9ad8-abadc22fc46f",
   "metadata": {},
   "outputs": [],
   "source": [
    "tree.insert(30)"
   ]
  },
  {
   "cell_type": "code",
   "execution_count": null,
   "id": "38f5b65d-28b2-4459-b26d-1d2d3af1484b",
   "metadata": {},
   "outputs": [],
   "source": [
    "tree.insert(75)"
   ]
  },
  {
   "cell_type": "code",
   "execution_count": null,
   "id": "d94d8f3d-6ec7-4724-b65e-48642fabe1d0",
   "metadata": {},
   "outputs": [],
   "source": [
    "tree_print(tree)"
   ]
  },
  {
   "cell_type": "code",
   "execution_count": null,
   "id": "73a61d5f-e78d-458d-9a51-a7f63c22ab5f",
   "metadata": {},
   "outputs": [],
   "source": [
    "tree.insert(77)"
   ]
  },
  {
   "cell_type": "code",
   "execution_count": null,
   "id": "ba5f0d04-0173-4ecd-afee-c5f6380c61a3",
   "metadata": {},
   "outputs": [],
   "source": [
    "tree.insert(55)"
   ]
  },
  {
   "cell_type": "code",
   "execution_count": null,
   "id": "90780408-2aaa-4306-878c-5c0ddb66fd87",
   "metadata": {},
   "outputs": [],
   "source": [
    "tree_print(tree)"
   ]
  },
  {
   "cell_type": "markdown",
   "id": "4a10eae6-7c8f-4256-b54b-a6b015337fd0",
   "metadata": {},
   "source": [
    "Search"
   ]
  },
  {
   "cell_type": "code",
   "execution_count": null,
   "id": "bc5358ae-1f20-4f79-9771-4468b14e5ffa",
   "metadata": {},
   "outputs": [],
   "source": [
    "tree.search(30)"
   ]
  },
  {
   "cell_type": "code",
   "execution_count": null,
   "id": "22d74200-66bc-4ef1-976d-f5325d697fb9",
   "metadata": {},
   "outputs": [],
   "source": [
    "tree.search(33)"
   ]
  },
  {
   "cell_type": "code",
   "execution_count": null,
   "id": "af9e1587-1112-4977-9d93-06ddcfe65185",
   "metadata": {},
   "outputs": [],
   "source": [
    "tree_print(tree)"
   ]
  },
  {
   "cell_type": "markdown",
   "id": "b10c227b-06a4-48a1-be88-9648307f44ed",
   "metadata": {},
   "source": [
    "delete"
   ]
  },
  {
   "cell_type": "code",
   "execution_count": null,
   "id": "0ec9ab47-ead0-4769-b669-dc3e2a4ac509",
   "metadata": {},
   "outputs": [],
   "source": [
    "tree.delete(30)\n",
    "tree_print(tree)"
   ]
  },
  {
   "cell_type": "code",
   "execution_count": null,
   "id": "7075f0e9-604f-4473-846d-bcc717e7656e",
   "metadata": {},
   "outputs": [],
   "source": [
    "tree.delete(50)\n",
    "tree_print(tree)"
   ]
  },
  {
   "cell_type": "code",
   "execution_count": null,
   "id": "12745c7a-7553-4234-a4cd-3bab01a77ac9",
   "metadata": {},
   "outputs": [],
   "source": [
    "tree.delete(77)\n",
    "tree_print(tree)"
   ]
  },
  {
   "cell_type": "markdown",
   "id": "e617405a-4ffe-40b3-bb70-8e6ae3fbe170",
   "metadata": {},
   "source": [
    "inefficient tree"
   ]
  },
  {
   "cell_type": "code",
   "execution_count": null,
   "id": "b6ca88b0-7946-44ff-84a1-8176104bb08f",
   "metadata": {},
   "outputs": [],
   "source": [
    "tree = Tree()\n",
    "for e in [10, 20, 30, 40, 50]:\n",
    "    tree.insert(e)"
   ]
  },
  {
   "cell_type": "code",
   "execution_count": null,
   "id": "cb8df4e4-6b0c-48b8-9b6e-ccdf4ebebef5",
   "metadata": {},
   "outputs": [],
   "source": [
    "tree_print(tree)"
   ]
  },
  {
   "cell_type": "code",
   "execution_count": null,
   "id": "8687d129-639c-4dea-962e-d4c03d9083c6",
   "metadata": {},
   "outputs": [],
   "source": []
  },
  {
   "cell_type": "code",
   "execution_count": null,
   "id": "6b63685f-545e-431e-8970-23f66fe52b10",
   "metadata": {},
   "outputs": [],
   "source": [
    "tree = Tree()\n",
    "for e in [60, 50, 40, 30, 20, 10]:\n",
    "    tree.insert(e)"
   ]
  },
  {
   "cell_type": "code",
   "execution_count": null,
   "id": "b9b33428-5292-41ad-acb7-f17da995fa95",
   "metadata": {},
   "outputs": [],
   "source": [
    "tree_print(tree)"
   ]
  },
  {
   "cell_type": "code",
   "execution_count": null,
   "id": "21581c83-0e31-447f-868f-8577a1ecd4fa",
   "metadata": {},
   "outputs": [],
   "source": []
  }
 ],
 "metadata": {
  "kernelspec": {
   "display_name": "Python 3 (ipykernel)",
   "language": "python",
   "name": "python3"
  },
  "language_info": {
   "codemirror_mode": {
    "name": "ipython",
    "version": 3
   },
   "file_extension": ".py",
   "mimetype": "text/x-python",
   "name": "python",
   "nbconvert_exporter": "python",
   "pygments_lexer": "ipython3",
   "version": "3.11.4"
  }
 },
 "nbformat": 4,
 "nbformat_minor": 5
}
